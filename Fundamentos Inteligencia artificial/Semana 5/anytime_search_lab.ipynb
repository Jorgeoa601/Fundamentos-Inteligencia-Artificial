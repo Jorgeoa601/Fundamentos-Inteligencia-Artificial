{
 "cells": [
  {
   "cell_type": "markdown",
   "id": "fc9fad1a",
   "metadata": {},
   "source": [
    "\n",
    "# Laboratorio: Búsqueda *Anytime* con Weighted A* (AW-A*)\n",
    "\n",
    "**Objetivo:** Comprender, implementar y experimentar un algoritmo de búsqueda *anytime* que entrega una solución rápidamente y la **mejora** cuando dispone de más tiempo.\n"
   ]
  },
  {
   "cell_type": "markdown",
   "id": "95218c67",
   "metadata": {},
   "source": [
    "\n",
    "## 1) Motivación (idea clave)\n",
    "En escenarios con **tiempo limitado** o **entornos dinámicos**, necesitamos una solución *ya* —aunque no sea óptima— que pueda **refinarse** si se dispone de más tiempo.\n",
    "- Ejemplos: robótica móvil, juegos, planificación de rutas bajo cambios en el mapa.\n"
   ]
  },
  {
   "cell_type": "markdown",
   "id": "9d25b4d8",
   "metadata": {},
   "source": [
    "\n",
    "## 2) Definición formal (resumen)\n",
    "Un algoritmo *anytime* es aquel que:\n",
    "- Produce una **solución válida en cualquier momento** (interrumpible).\n",
    "- **Mejora progresivamente** la calidad de la solución conforme avanza el cómputo.\n",
    "- Lleva asociada una **medida de calidad** (por ejemplo, la longitud del camino).\n",
    "\n",
    "**Propiedades usuales:** interruptibilidad, mejora gradual, (idealmente) monotonía de calidad y acotación del error.\n"
   ]
  },
  {
   "cell_type": "markdown",
   "id": "fb8b78f9",
   "metadata": {},
   "source": [
    "\n",
    "## 3) Estrategia: Anytime Weighted A* (AW-A*)\n",
    "Partimos usando una heurística **inflada** con un factor \\( w > 1 \\) (prioriza soluciones rápidas).\n",
    "Luego **disminuimos** gradualmente \\( w \\) hacia 1.0 (A* clásico), refinando la ruta.\n",
    "\n",
    "- Si \\( f(n) = g(n) + w *h(n) \\), al reducir \\( w \\) nos acercamos a la optimalidad.\n",
    "- Mantenemos la **mejor cota superior** (longitud de la mejor ruta hallada) para **podar** expansiones inútiles.\n"
   ]
  },
  {
   "cell_type": "code",
   "execution_count": 1,
   "id": "158cf1c1",
   "metadata": {},
   "outputs": [
    {
     "name": "stdout",
     "output_type": "stream",
     "text": [
      "Defaulting to user installation because normal site-packages is not writeable\n",
      "Collecting matplotlib\n",
      "  Downloading matplotlib-3.10.6-cp312-cp312-win_amd64.whl.metadata (11 kB)\n",
      "Collecting contourpy>=1.0.1 (from matplotlib)\n",
      "  Downloading contourpy-1.3.3-cp312-cp312-win_amd64.whl.metadata (5.5 kB)\n",
      "Collecting cycler>=0.10 (from matplotlib)\n",
      "  Downloading cycler-0.12.1-py3-none-any.whl.metadata (3.8 kB)\n",
      "Collecting fonttools>=4.22.0 (from matplotlib)\n",
      "  Downloading fonttools-4.59.2-cp312-cp312-win_amd64.whl.metadata (111 kB)\n",
      "Collecting kiwisolver>=1.3.1 (from matplotlib)\n",
      "  Downloading kiwisolver-1.4.9-cp312-cp312-win_amd64.whl.metadata (6.4 kB)\n",
      "Collecting numpy>=1.23 (from matplotlib)\n",
      "  Downloading numpy-2.3.2-cp312-cp312-win_amd64.whl.metadata (60 kB)\n",
      "Requirement already satisfied: packaging>=20.0 in c:\\users\\senpo\\appdata\\roaming\\python\\python312\\site-packages (from matplotlib) (25.0)\n",
      "Collecting pillow>=8 (from matplotlib)\n",
      "  Downloading pillow-11.3.0-cp312-cp312-win_amd64.whl.metadata (9.2 kB)\n",
      "Collecting pyparsing>=2.3.1 (from matplotlib)\n",
      "  Downloading pyparsing-3.2.3-py3-none-any.whl.metadata (5.0 kB)\n",
      "Requirement already satisfied: python-dateutil>=2.7 in c:\\users\\senpo\\appdata\\roaming\\python\\python312\\site-packages (from matplotlib) (2.9.0.post0)\n",
      "Requirement already satisfied: six>=1.5 in c:\\users\\senpo\\appdata\\roaming\\python\\python312\\site-packages (from python-dateutil>=2.7->matplotlib) (1.17.0)\n",
      "Downloading matplotlib-3.10.6-cp312-cp312-win_amd64.whl (8.1 MB)\n",
      "   ---------------------------------------- 0.0/8.1 MB ? eta -:--:--\n",
      "   - -------------------------------------- 0.3/8.1 MB ? eta -:--:--\n",
      "   --- ------------------------------------ 0.8/8.1 MB 2.8 MB/s eta 0:00:03\n",
      "   ------ --------------------------------- 1.3/8.1 MB 2.9 MB/s eta 0:00:03\n",
      "   --------- ------------------------------ 1.8/8.1 MB 2.5 MB/s eta 0:00:03\n",
      "   ---------- ----------------------------- 2.1/8.1 MB 2.4 MB/s eta 0:00:03\n",
      "   ----------- ---------------------------- 2.4/8.1 MB 2.2 MB/s eta 0:00:03\n",
      "   -------------- ------------------------- 2.9/8.1 MB 2.1 MB/s eta 0:00:03\n",
      "   --------------- ------------------------ 3.1/8.1 MB 2.1 MB/s eta 0:00:03\n",
      "   ------------------ --------------------- 3.7/8.1 MB 2.1 MB/s eta 0:00:03\n",
      "   -------------------- ------------------- 4.2/8.1 MB 2.2 MB/s eta 0:00:02\n",
      "   ------------------------ --------------- 5.0/8.1 MB 2.3 MB/s eta 0:00:02\n",
      "   ---------------------------- ----------- 5.8/8.1 MB 2.4 MB/s eta 0:00:01\n",
      "   ----------------------------- ---------- 6.0/8.1 MB 2.4 MB/s eta 0:00:01\n",
      "   -------------------------------- ------- 6.6/8.1 MB 2.4 MB/s eta 0:00:01\n",
      "   --------------------------------- ------ 6.8/8.1 MB 2.3 MB/s eta 0:00:01\n",
      "   ------------------------------------- -- 7.6/8.1 MB 2.4 MB/s eta 0:00:01\n",
      "   ---------------------------------------- 8.1/8.1 MB 2.5 MB/s eta 0:00:00\n",
      "Downloading contourpy-1.3.3-cp312-cp312-win_amd64.whl (226 kB)\n",
      "Downloading cycler-0.12.1-py3-none-any.whl (8.3 kB)\n",
      "Downloading fonttools-4.59.2-cp312-cp312-win_amd64.whl (2.3 MB)\n",
      "   ---------------------------------------- 0.0/2.3 MB ? eta -:--:--\n",
      "   ------------- -------------------------- 0.8/2.3 MB 4.2 MB/s eta 0:00:01\n",
      "   --------------------------- ------------ 1.6/2.3 MB 4.0 MB/s eta 0:00:01\n",
      "   ---------------------------------------- 2.3/2.3 MB 4.0 MB/s eta 0:00:00\n",
      "Downloading kiwisolver-1.4.9-cp312-cp312-win_amd64.whl (73 kB)\n",
      "Downloading numpy-2.3.2-cp312-cp312-win_amd64.whl (12.8 MB)\n",
      "   ---------------------------------------- 0.0/12.8 MB ? eta -:--:--\n",
      "   - -------------------------------------- 0.5/12.8 MB 2.4 MB/s eta 0:00:06\n",
      "   -- ------------------------------------- 0.8/12.8 MB 2.1 MB/s eta 0:00:06\n",
      "   ---- ----------------------------------- 1.3/12.8 MB 2.1 MB/s eta 0:00:06\n",
      "   ----- ---------------------------------- 1.8/12.8 MB 2.2 MB/s eta 0:00:05\n",
      "   --------- ------------------------------ 2.9/12.8 MB 2.8 MB/s eta 0:00:04\n",
      "   ----------- ---------------------------- 3.7/12.8 MB 3.1 MB/s eta 0:00:03\n",
      "   -------------- ------------------------- 4.7/12.8 MB 3.4 MB/s eta 0:00:03\n",
      "   --------------- ------------------------ 5.0/12.8 MB 3.2 MB/s eta 0:00:03\n",
      "   ------------------ --------------------- 5.8/12.8 MB 3.2 MB/s eta 0:00:03\n",
      "   ------------------- -------------------- 6.3/12.8 MB 3.1 MB/s eta 0:00:03\n",
      "   --------------------- ------------------ 6.8/12.8 MB 3.1 MB/s eta 0:00:02\n",
      "   ----------------------- ---------------- 7.6/12.8 MB 3.2 MB/s eta 0:00:02\n",
      "   -------------------------- ------------- 8.4/12.8 MB 3.2 MB/s eta 0:00:02\n",
      "   ---------------------------- ----------- 9.2/12.8 MB 3.3 MB/s eta 0:00:02\n",
      "   ------------------------------- -------- 10.2/12.8 MB 3.4 MB/s eta 0:00:01\n",
      "   ----------------------------------- ---- 11.3/12.8 MB 3.5 MB/s eta 0:00:01\n",
      "   ------------------------------------- -- 12.1/12.8 MB 3.5 MB/s eta 0:00:01\n",
      "   ---------------------------------------- 12.8/12.8 MB 3.5 MB/s eta 0:00:00\n",
      "Downloading pillow-11.3.0-cp312-cp312-win_amd64.whl (7.0 MB)\n",
      "   ---------------------------------------- 0.0/7.0 MB ? eta -:--:--\n",
      "   - -------------------------------------- 0.3/7.0 MB ? eta -:--:--\n",
      "   ---- ----------------------------------- 0.8/7.0 MB 3.4 MB/s eta 0:00:02\n",
      "   --------- ------------------------------ 1.6/7.0 MB 3.2 MB/s eta 0:00:02\n",
      "   ------------- -------------------------- 2.4/7.0 MB 3.4 MB/s eta 0:00:02\n",
      "   ---------------- ----------------------- 2.9/7.0 MB 3.1 MB/s eta 0:00:02\n",
      "   ------------------ --------------------- 3.1/7.0 MB 2.9 MB/s eta 0:00:02\n",
      "   ------------------ --------------------- 3.1/7.0 MB 2.9 MB/s eta 0:00:02\n",
      "   ------------------ --------------------- 3.1/7.0 MB 2.9 MB/s eta 0:00:02\n",
      "   ------------------------ --------------- 4.2/7.0 MB 2.4 MB/s eta 0:00:02\n",
      "   ------------------------ --------------- 4.2/7.0 MB 2.4 MB/s eta 0:00:02\n",
      "   ------------------------- -------------- 4.5/7.0 MB 2.1 MB/s eta 0:00:02\n",
      "   ------------------------- -------------- 4.5/7.0 MB 2.1 MB/s eta 0:00:02\n",
      "   ------------------------- -------------- 4.5/7.0 MB 2.1 MB/s eta 0:00:02\n",
      "   ------------------------------- -------- 5.5/7.0 MB 1.9 MB/s eta 0:00:01\n",
      "   --------------------------------- ------ 5.8/7.0 MB 1.9 MB/s eta 0:00:01\n",
      "   ---------------------------------- ----- 6.0/7.0 MB 1.9 MB/s eta 0:00:01\n",
      "   ------------------------------------ --- 6.3/7.0 MB 1.9 MB/s eta 0:00:01\n",
      "   ------------------------------------- -- 6.6/7.0 MB 1.9 MB/s eta 0:00:01\n",
      "   ---------------------------------------  6.8/7.0 MB 1.9 MB/s eta 0:00:01\n",
      "   ---------------------------------------  6.8/7.0 MB 1.9 MB/s eta 0:00:01\n",
      "   ---------------------------------------- 7.0/7.0 MB 1.7 MB/s eta 0:00:00\n",
      "Downloading pyparsing-3.2.3-py3-none-any.whl (111 kB)\n",
      "Installing collected packages: pyparsing, pillow, numpy, kiwisolver, fonttools, cycler, contourpy, matplotlib\n",
      "Successfully installed contourpy-1.3.3 cycler-0.12.1 fonttools-4.59.2 kiwisolver-1.4.9 matplotlib-3.10.6 numpy-2.3.2 pillow-11.3.0 pyparsing-3.2.3\n",
      "Note: you may need to restart the kernel to use updated packages.\n"
     ]
    },
    {
     "name": "stderr",
     "output_type": "stream",
     "text": [
      "\n",
      "[notice] A new release of pip is available: 24.2 -> 25.2\n",
      "[notice] To update, run: python.exe -m pip install --upgrade pip\n"
     ]
    }
   ],
   "source": [
    "\n",
    "%pip install matplotlib\n",
    "\n",
    "# Requisitos: matplotlib únicamente (ya incluido en este entorno).\n",
    "import random, time, heapq, math\n",
    "import matplotlib.pyplot as plt\n",
    "\n",
    "# Utilidad para visualizar (una figura por gráfico)\n",
    "def plot_grid(grid, path=None, title=\"Mapa\"):\n",
    "    fig, ax = plt.subplots(figsize=(7,7))\n",
    "    ax.imshow(grid, cmap=\"gray_r\")\n",
    "    if path:\n",
    "        x, y = zip(*path)\n",
    "        ax.plot(y, x, linewidth=2, marker=\"o\", markersize=3, label=\"Ruta\")\n",
    "        ax.scatter([y[0]],[x[0]], s=60, marker=\"s\", label=\"Inicio\")\n",
    "        ax.scatter([y[-1]],[x[-1]], s=60, marker=\"s\", label=\"Meta\")\n",
    "    ax.set_title(title, fontsize=14)\n",
    "    ax.axis(\"off\")\n",
    "    ax.legend(loc=\"upper right\")\n",
    "    plt.show()\n"
   ]
  },
  {
   "cell_type": "markdown",
   "id": "8c5922c1",
   "metadata": {},
   "source": [
    "\n",
    "### 3.1 Generación de mapas (laberinto)\n",
    "Usaremos un generador simple por **búsqueda en profundidad** (backtracking) para crear un laberinto 2D.\n"
   ]
  },
  {
   "cell_type": "code",
   "execution_count": 2,
   "id": "ed740781",
   "metadata": {},
   "outputs": [],
   "source": [
    "\n",
    "def generate_maze(width=41, height=41, seed=7):\n",
    "    random.seed(seed)\n",
    "    # Asegurar dimensiones impares (corredores de 1 celda, paredes de 1 celda)\n",
    "    width = width if width % 2 == 1 else width + 1\n",
    "    height = height if height % 2 == 1 else height + 1\n",
    "    maze = [[1 for _ in range(width)] for _ in range(height)]  # 1 = muro, 0 = libre\n",
    "\n",
    "    def neighbors(cx, cy):\n",
    "        for dx, dy in [(2,0),(-2,0),(0,2),(0,-2)]:\n",
    "            nx, ny = cx + dx, cy + dy\n",
    "            if 1 <= nx < height-1 and 1 <= ny < width-1:\n",
    "                yield nx, ny, dx, dy\n",
    "\n",
    "    stack = [(1,1)]\n",
    "    maze[1][1] = 0\n",
    "\n",
    "    while stack:\n",
    "        x, y = stack[-1]\n",
    "        unvisited = [(nx,ny,dx,dy) for nx,ny,dx,dy in neighbors(x,y) if maze[nx][ny] == 1]\n",
    "        if unvisited:\n",
    "            nx, ny, dx, dy = random.choice(unvisited)\n",
    "            maze[x + dx//2][y + dy//2] = 0  # derribar pared intermedia\n",
    "            maze[nx][ny] = 0\n",
    "            stack.append((nx, ny))\n",
    "        else:\n",
    "            stack.pop()\n",
    "\n",
    "    # Agregar algunas aperturas aleatorias para permitir múltiples rutas\n",
    "    openings = (width * height) // 200\n",
    "    for _ in range(openings):\n",
    "        x = random.randrange(1, height-1)\n",
    "        y = random.randrange(1, width-1)\n",
    "        maze[x][y] = 0\n",
    "\n",
    "    return maze\n"
   ]
  },
  {
   "cell_type": "markdown",
   "id": "9f151d88",
   "metadata": {},
   "source": [
    "\n",
    "### 3.2 Implementación de AW-A*\n",
    "- Heurística: **Manhattan** (admisible en cuadrícula 4-conexa).\n",
    "- Ciclos de búsqueda con pesos: \\( w = w_{inicio}, w_{inicio}-\\Delta, \\dots, 1.0 \\) hasta agotar tiempo.\n",
    "- Se mantiene y usa una **cota superior** (mejor ruta encontrada) para **podar** caminos peores.\n"
   ]
  },
  {
   "cell_type": "code",
   "execution_count": 3,
   "id": "203d36d0",
   "metadata": {},
   "outputs": [],
   "source": [
    "\n",
    "class Node:\n",
    "    __slots__ = (\"state\",\"parent\",\"g\",\"h\",\"f\")\n",
    "    def __init__(self, state, parent=None, g=0, h=0, w=1.0):\n",
    "        self.state = state\n",
    "        self.parent = parent\n",
    "        self.g = g\n",
    "        self.h = h\n",
    "        self.f = g + w*h\n",
    "    def __lt__(self, other):\n",
    "        return self.f < other.f\n",
    "\n",
    "def heuristic(a, b):\n",
    "    return abs(a[0]-b[0]) + abs(a[1]-b[1])\n",
    "\n",
    "def reconstruct_path(n):\n",
    "    path = []\n",
    "    while n:\n",
    "        path.append(n.state)\n",
    "        n = n.parent\n",
    "    return path[::-1]\n",
    "\n",
    "def awastar(start, goal, grid, max_time=2.0, w_start=2.5, w_end=1.0, w_step=0.5):\n",
    "    H = len(grid); W = len(grid[0])\n",
    "    t0 = time.time()\n",
    "    best_path = None\n",
    "    best_len = math.inf\n",
    "\n",
    "    w = w_start\n",
    "    while w >= w_end - 1e-9 and (time.time() - t0) < max_time:\n",
    "        open_list = []\n",
    "        g_cost = {start: 0}\n",
    "        h0 = heuristic(start, goal)\n",
    "        heapq.heappush(open_list, Node(start, None, 0, h0, w))\n",
    "        closed = set()\n",
    "\n",
    "        while open_list and (time.time() - t0) < max_time:\n",
    "            current = heapq.heappop(open_list)\n",
    "            if current.state in closed:\n",
    "                continue\n",
    "            closed.add(current.state)\n",
    "\n",
    "            # Poda basada en la mejor cota superior disponible\n",
    "            if current.g + current.h >= best_len:\n",
    "                continue\n",
    "\n",
    "            if current.state == goal:\n",
    "                cand = reconstruct_path(current)\n",
    "                if len(cand) < best_len:\n",
    "                    best_len = len(cand)\n",
    "                    best_path = cand\n",
    "                break  # Reducimos w y repetimos para refinar\n",
    "            x, y = current.state\n",
    "            for dx, dy in [(1,0),(-1,0),(0,1),(0,-1)]:\n",
    "                nx, ny = x+dx, y+dy\n",
    "                if 0 <= nx < H and 0 <= ny < W and grid[nx][ny] == 0:\n",
    "                    ng = current.g + 1\n",
    "                    ns = (nx, ny)\n",
    "                    if ng < g_cost.get(ns, math.inf):\n",
    "                        g_cost[ns] = ng\n",
    "                        h = heuristic(ns, goal)\n",
    "                        if ng + h >= best_len:\n",
    "                            continue\n",
    "                        heapq.heappush(open_list, Node(ns, current, ng, h, w))\n",
    "        w -= w_step\n",
    "\n",
    "    return best_path\n"
   ]
  },
  {
   "cell_type": "markdown",
   "id": "3b49255b",
   "metadata": {},
   "source": [
    "\n",
    "## 4) Experimentos\n",
    "### 4.1 Mapa base y comparación de tiempos\n",
    "Ejecución en un **laberinto 41×41** con tiempos distintos:\n",
    "- **0.2 s** → solución inicial (rápida).\n",
    "- **2.5 s** → solución refinada (más corta).\n"
   ]
  },
  {
   "cell_type": "code",
   "execution_count": 8,
   "id": "5233bdde",
   "metadata": {},
   "outputs": [
    {
     "data": {
      "image/png": "[encoded data removed]",
      "text/plain": [
       "<Figure size 700x700 with 1 Axes>"
      ]
     },
     "metadata": {},
     "output_type": "display_data"
    },
    {
     "data": {
      "image/png": "[encoded data removed]",
      "text/plain": [
       "<Figure size 700x700 with 1 Axes>"
      ]
     },
     "metadata": {},
     "output_type": "display_data"
    },
    {
     "name": "stdout",
     "output_type": "stream",
     "text": [
      "Longitud ruta 0.2s: 249\n",
      "Longitud ruta 2.5s: 249\n"
     ]
    }
   ],
   "source": [
    "\n",
    "maze = generate_maze(41, 41, seed=7)\n",
    "start = (1,1)\n",
    "goal = (len(maze)-2, len(maze[0])-2)\n",
    "maze[start[0]][start[1]] = 0\n",
    "maze[goal[0]][goal[1]] = 0\n",
    "\n",
    "path_quick = awastar(start, goal, maze, max_time=0.2, w_start=4.5, w_end=1.0, w_step=0.5)\n",
    "plot_grid(maze, path_quick, \"AW-A*: 0.2s (solución inicial)\")\n",
    "\n",
    "path_longer = awastar(start, goal, maze, max_time=2.5, w_start=2.5, w_end=1.0, w_step=0.5)\n",
    "plot_grid(maze, path_longer, \"AW-A*: 2.5s (solución mejorada)\")\n",
    "\n",
    "print(\"Longitud ruta 0.2s:\", len(path_quick) if path_quick else None)\n",
    "print(\"Longitud ruta 2.5s:\", len(path_longer) if path_longer else None)\n"
   ]
  },
  {
   "cell_type": "markdown",
   "id": "840a37c6",
   "metadata": {},
   "source": [
    "\n",
    "### 4.2 Sensibilidad a tamaño de mapa y semilla\n",
    "Prueba variando dimensiones y semilla para ver cómo cambia el beneficio *anytime*.\n"
   ]
  },
  {
   "cell_type": "code",
   "execution_count": 9,
   "id": "53ddc9bc",
   "metadata": {},
   "outputs": [
    {
     "name": "stdout",
     "output_type": "stream",
     "text": [
      "Mapa 31x31 seed=3: corto=141, largo=141, mejora=0\n",
      "Mapa 41x41 seed=7: corto=249, largo=249, mejora=0\n",
      "Mapa 51x51 seed=11: corto=413, largo=413, mejora=0\n"
     ]
    }
   ],
   "source": [
    "\n",
    "def run_experiment(width, height, seed, t_short=0.15, t_long=2.0):\n",
    "    maze = generate_maze(width, height, seed=seed)\n",
    "    start = (1,1)\n",
    "    goal = (len(maze)-2, len(maze[0])-2)\n",
    "    maze[start[0]][start[1]] = 0\n",
    "    maze[goal[0]][goal[1]] = 0\n",
    "\n",
    "    p1 = awastar(start, goal, maze, max_time=t_short, w_start=2.5, w_end=1.0, w_step=0.5)\n",
    "    p2 = awastar(start, goal, maze, max_time=t_long,  w_start=2.5, w_end=1.0, w_step=0.5)\n",
    "    return (len(p1) if p1 else math.inf), (len(p2) if p2 else math.inf)\n",
    "\n",
    "for (w,h,s) in [(31,31,3), (41,41,7), (51,51,11)]:\n",
    "    l1, l2 = run_experiment(w,h,s)\n",
    "    print(f\"Mapa {w}x{h} seed={s}: corto={l1}, largo={l2}, mejora={(l1 - l2) if (l1<math.inf and l2<math.inf) else None}\")\n"
   ]
  }
 ],
 "metadata": {
  "kernelspec": {
   "display_name": "Python 3",
   "language": "python",
   "name": "python3"
  },
  "language_info": {
   "codemirror_mode": {
    "name": "ipython",
    "version": 3
   },
   "file_extension": ".py",
   "mimetype": "text/x-python",
   "name": "python",
   "nbconvert_exporter": "python",
   "pygments_lexer": "ipython3",
   "version": "3.12.6"
  }
 },
 "nbformat": 4,
 "nbformat_minor": 5
}
